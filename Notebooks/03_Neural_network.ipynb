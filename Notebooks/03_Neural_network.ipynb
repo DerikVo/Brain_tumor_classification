{
 "cells": [
  {
   "cell_type": "code",
   "execution_count": 3,
   "id": "a52c7165-1557-4dfc-9d48-830fa1fb80ba",
   "metadata": {},
   "outputs": [],
   "source": [
    "# imports\n",
    "import matplotlib.pyplot as plt\n",
    "import numpy as np\n",
    "import os\n",
    "import pandas as pd\n",
    "import seaborn as sns\n",
    "\n",
    "from tensorflow.keras.layers import Dense, Dropout, Flatten, Conv2D, MaxPooling2D\n",
    "from tensorflow.keras.regularizers import l2\n",
    "from tensorflow.keras.callbacks import EarlyStopping\n",
    "from tensorflow.keras.models import Sequential\n",
    "from tensorflow.keras.preprocessing.image import ImageDataGenerator\n",
    "from tensorflow.keras import layers\n",
    "from keras.applications import ConvNeXtTiny"
   ]
  },
  {
   "cell_type": "code",
   "execution_count": 4,
   "id": "b123ab25-0e50-4827-bce3-c5001dfa3e3c",
   "metadata": {},
   "outputs": [],
   "source": [
    "# set the training and testing paths\n",
    "train_dir = '../Images/Training'\n",
    "test_dir = '../Images/Testing'"
   ]
  },
  {
   "cell_type": "code",
   "execution_count": 5,
   "id": "60332b77-10c4-4f05-ba32-74e67ce636ec",
   "metadata": {},
   "outputs": [],
   "source": [
    "# manually list out the class names\n",
    "class_names = ['glioma', 'meningioma', 'notumor', 'pituitary']"
   ]
  },
  {
   "cell_type": "code",
   "execution_count": 6,
   "id": "6578b198-899d-4895-b516-d50fbde7f912",
   "metadata": {},
   "outputs": [
    {
     "name": "stdout",
     "output_type": "stream",
     "text": [
      "Found 4571 images belonging to 4 classes.\n",
      "Found 1141 images belonging to 4 classes.\n",
      "Found 1311 images belonging to 4 classes.\n"
     ]
    }
   ],
   "source": [
    "datagen = ImageDataGenerator(validation_split=0.30)\n",
    "# Get the training data\n",
    "train_ds = datagen.flow_from_directory(\n",
    "    train_dir,\n",
    "    target_size=(256, 256),\n",
    "    color_mode='grayscale',\n",
    "    batch_size=32,\n",
    "    classes=class_names,\n",
    "    class_mode='categorical',\n",
    "    subset='training',  # Set as training data\n",
    "    seed=42\n",
    ")\n",
    "\n",
    "# Get the validation data\n",
    "val_ds = datagen.flow_from_directory(\n",
    "    train_dir,\n",
    "    target_size=(256, 256),\n",
    "    color_mode='grayscale',\n",
    "    batch_size=32,\n",
    "    classes=class_names,\n",
    "    class_mode='categorical',\n",
    "    subset='validation',  # Set as validation data\n",
    "    seed=42,\n",
    "    shuffle=False\n",
    ")\n",
    "\n",
    "# Get the test data\n",
    "test_ds = datagen.flow_from_directory(\n",
    "    test_dir,\n",
    "    target_size=(256, 256),\n",
    "    color_mode='grayscale',\n",
    "    class_mode='categorical',\n",
    "    seed=42,\n",
    "    shuffle=False\n",
    ")\n"
   ]
  },
  {
   "cell_type": "code",
   "execution_count": 7,
   "id": "b2c3a1ac-2d85-467e-aa16-52f1c0f3ba8a",
   "metadata": {},
   "outputs": [],
   "source": [
    "model = Sequential()\n",
    "model.add(Conv2D(32, (3, 3), activation='relu', input_shape=(256, 256, 1)))\n",
    "model.add(MaxPooling2D((2, 2)))\n",
    "model.add(Conv2D(64, (3, 3), activation='relu'))\n",
    "model.add(MaxPooling2D((2, 2)))\n",
    "model.add(Conv2D(128, (3, 3), activation='relu'))\n",
    "model.add(MaxPooling2D((2, 2)))\n",
    "model.add(Flatten())\n",
    "model.add(Dense(128, activation='relu'))\n",
    "model.add(Dense(4, activation='softmax'))"
   ]
  },
  {
   "cell_type": "code",
   "execution_count": 10,
   "id": "3b8c7002-7990-4b3a-8f57-84d867286e47",
   "metadata": {},
   "outputs": [],
   "source": [
    "model.compile(optimizer='adam', loss='categorical_crossentropy', metrics=['accuracy'])"
   ]
  },
  {
   "cell_type": "code",
   "execution_count": 13,
   "id": "bc37376b-106d-4825-b43a-9df7fad9f3e7",
   "metadata": {},
   "outputs": [],
   "source": [
    "early_stopping = EarlyStopping(patience=5)"
   ]
  },
  {
   "cell_type": "code",
   "execution_count": 14,
   "id": "187b5f26-deb2-41a6-a960-439acf618f9d",
   "metadata": {},
   "outputs": [
    {
     "name": "stdout",
     "output_type": "stream",
     "text": [
      "Epoch 1/10\n",
      "143/143 [==============================] - 24s 165ms/step - loss: 0.0335 - accuracy: 0.9910 - val_loss: 1.2293 - val_accuracy: 0.7870\n",
      "Epoch 2/10\n",
      "143/143 [==============================] - 24s 166ms/step - loss: 0.0232 - accuracy: 0.9923 - val_loss: 1.3639 - val_accuracy: 0.7853\n",
      "Epoch 3/10\n",
      "143/143 [==============================] - 37s 262ms/step - loss: 0.0445 - accuracy: 0.9882 - val_loss: 1.1737 - val_accuracy: 0.7695\n",
      "Epoch 4/10\n",
      "143/143 [==============================] - 59s 408ms/step - loss: 0.0498 - accuracy: 0.9838 - val_loss: 1.7282 - val_accuracy: 0.7853\n",
      "Epoch 5/10\n",
      "143/143 [==============================] - 62s 428ms/step - loss: 0.0207 - accuracy: 0.9917 - val_loss: 1.5538 - val_accuracy: 0.7704\n",
      "Epoch 6/10\n",
      "143/143 [==============================] - 53s 366ms/step - loss: 0.0029 - accuracy: 0.9991 - val_loss: 2.1274 - val_accuracy: 0.7695\n",
      "Epoch 7/10\n",
      "143/143 [==============================] - 62s 438ms/step - loss: 6.1432e-04 - accuracy: 0.9998 - val_loss: 2.3128 - val_accuracy: 0.7669\n",
      "Epoch 8/10\n",
      "143/143 [==============================] - 60s 419ms/step - loss: 1.3586e-04 - accuracy: 1.0000 - val_loss: 2.4201 - val_accuracy: 0.7686\n"
     ]
    }
   ],
   "source": [
    "history = model.fit(train_ds, validation_data=val_ds, epochs=10, callbacks=[early_stopping])"
   ]
  },
  {
   "cell_type": "code",
   "execution_count": 31,
   "id": "27c2a852-8f70-4fbe-9d78-0507ea65995e",
   "metadata": {},
   "outputs": [],
   "source": [
    "import sys\n",
    "sys.path.append('../modules/')\n",
    "import os\n",
    "import model as m\n",
    "from sklearn.metrics import accuracy_score, precision_score, recall_score, f1_score, confusion_matrix"
   ]
  },
  {
   "cell_type": "code",
   "execution_count": 25,
   "id": "883d19e7-deb0-4aae-80b3-ae4411accffb",
   "metadata": {},
   "outputs": [],
   "source": [
    "def calculate_metrics(true_classes, predicted_classes):\n",
    "    '''\n",
    "    Calculate accuracy, precision, recall, and F1 score.\n",
    "    '''\n",
    "    accuracy = accuracy_score(true_classes, predicted_classes)\n",
    "    precision = precision_score(true_classes, predicted_classes, average='weighted')\n",
    "    recall = recall_score(true_classes, predicted_classes, average='weighted')\n",
    "    f1 = f1_score(true_classes, predicted_classes, average='weighted')\n",
    "    return accuracy, precision, recall, f1\n"
   ]
  },
  {
   "cell_type": "code",
   "execution_count": 20,
   "id": "0d397195-eef4-46c2-95d6-98a1cfb32f68",
   "metadata": {},
   "outputs": [
    {
     "name": "stdout",
     "output_type": "stream",
     "text": [
      "41/41 [==============================] - 4s 83ms/step - loss: 0.9005 - accuracy: 0.9054\n"
     ]
    }
   ],
   "source": [
    "# Evaluate the model on the test data\n",
    "test_loss, test_accuracy = model.evaluate(test_ds)"
   ]
  },
  {
   "cell_type": "code",
   "execution_count": 21,
   "id": "44e3a277-9da0-45f5-b926-3e717ca2a60e",
   "metadata": {},
   "outputs": [
    {
     "name": "stdout",
     "output_type": "stream",
     "text": [
      "41/41 [==============================] - 3s 72ms/step\n"
     ]
    }
   ],
   "source": [
    "# Get the predicted classes\n",
    "y_pred = model.predict(test_ds)\n",
    "predicted_classes = np.argmax(y_pred, axis=1)"
   ]
  },
  {
   "cell_type": "code",
   "execution_count": 22,
   "id": "f20c5ef4-5907-4a21-a121-bb6a551b5739",
   "metadata": {},
   "outputs": [],
   "source": [
    "# Get the true classes\n",
    "true_classes = test_ds.classes"
   ]
  },
  {
   "cell_type": "code",
   "execution_count": 26,
   "id": "d596d034-e076-4939-b776-606378f99e0e",
   "metadata": {},
   "outputs": [],
   "source": [
    "# Calculate metrics\n",
    "accuracy, precision, recall, f1 = calculate_metrics(true_classes, predicted_classes)"
   ]
  },
  {
   "cell_type": "code",
   "execution_count": 27,
   "id": "8e64c5f2-3766-4a6b-b3a3-83529da07314",
   "metadata": {},
   "outputs": [],
   "source": [
    "# Create a DataFrame with metrics\n",
    "data = {'Accuracy': [accuracy], 'Precision': [precision], 'Recall': [recall], 'F1 Score': [f1]}\n",
    "metrics_df = pd.DataFrame(data, index=['Neural Network'])\n"
   ]
  },
  {
   "cell_type": "code",
   "execution_count": 28,
   "id": "9f3bd9e3-c9cd-4624-bba8-8fda4958cf95",
   "metadata": {},
   "outputs": [
    {
     "data": {
      "text/html": [
       "<div>\n",
       "<style scoped>\n",
       "    .dataframe tbody tr th:only-of-type {\n",
       "        vertical-align: middle;\n",
       "    }\n",
       "\n",
       "    .dataframe tbody tr th {\n",
       "        vertical-align: top;\n",
       "    }\n",
       "\n",
       "    .dataframe thead th {\n",
       "        text-align: right;\n",
       "    }\n",
       "</style>\n",
       "<table border=\"1\" class=\"dataframe\">\n",
       "  <thead>\n",
       "    <tr style=\"text-align: right;\">\n",
       "      <th></th>\n",
       "      <th>Accuracy</th>\n",
       "      <th>Precision</th>\n",
       "      <th>Recall</th>\n",
       "      <th>F1 Score</th>\n",
       "    </tr>\n",
       "  </thead>\n",
       "  <tbody>\n",
       "    <tr>\n",
       "      <th>Neural Network</th>\n",
       "      <td>0.905416</td>\n",
       "      <td>0.904306</td>\n",
       "      <td>0.905416</td>\n",
       "      <td>0.902532</td>\n",
       "    </tr>\n",
       "  </tbody>\n",
       "</table>\n",
       "</div>"
      ],
      "text/plain": [
       "                Accuracy  Precision    Recall  F1 Score\n",
       "Neural Network  0.905416   0.904306  0.905416  0.902532"
      ]
     },
     "execution_count": 28,
     "metadata": {},
     "output_type": "execute_result"
    }
   ],
   "source": [
    "metrics_df"
   ]
  },
  {
   "cell_type": "code",
   "execution_count": 30,
   "id": "94662f01-863f-4742-929f-225bd7d14dab",
   "metadata": {},
   "outputs": [
    {
     "data": {
      "text/plain": [
       "array([[270,  29,   0,   1],\n",
       "       [ 15, 223,  48,  20],\n",
       "       [  1,   6, 395,   3],\n",
       "       [  1,   0,   0, 299]], dtype=int64)"
      ]
     },
     "execution_count": 30,
     "metadata": {},
     "output_type": "execute_result"
    }
   ],
   "source": [
    "cm = confusion_matrix(true_classes, predicted_classes)\n",
    "cm"
   ]
  },
  {
   "cell_type": "code",
   "execution_count": 33,
   "id": "6b687f21-dc62-483e-b681-354902fd1150",
   "metadata": {},
   "outputs": [],
   "source": [
    "class_paths = {class_name: os.path.join(test_dir, class_name) for class_name in class_names}"
   ]
  },
  {
   "cell_type": "code",
   "execution_count": 34,
   "id": "26fef461-3a88-40be-8b73-aca786ae52a5",
   "metadata": {},
   "outputs": [
    {
     "data": {
      "image/png": "[encoded data removed]",
      "text/plain": [
       "<Figure size 1000x1000 with 2 Axes>"
      ]
     },
     "metadata": {},
     "output_type": "display_data"
    },
    {
     "name": "stdout",
     "output_type": "stream",
     "text": [
      "                Accuracy  Precision    Recall  F1 Score\n",
      "Neural Network  0.905416   0.904306  0.905416  0.902532\n"
     ]
    }
   ],
   "source": [
    "# Plot the confusion matrix\n",
    "m.plot_confusion_matrix(cm, class_paths, 'Baseline')\n",
    "\n",
    "# Display the metrics DataFrame\n",
    "print(metrics_df)"
   ]
  },
  {
   "cell_type": "code",
   "execution_count": null,
   "id": "f06e1775-995b-4a6b-907f-0ddb31db6d1f",
   "metadata": {},
   "outputs": [],
   "source": []
  }
 ],
 "metadata": {
  "kernelspec": {
   "display_name": "Python [conda env:tensorflow-env]",
   "language": "python",
   "name": "conda-env-tensorflow-env-py"
  },
  "language_info": {
   "codemirror_mode": {
    "name": "ipython",
    "version": 3
   },
   "file_extension": ".py",
   "mimetype": "text/x-python",
   "name": "python",
   "nbconvert_exporter": "python",
   "pygments_lexer": "ipython3",
   "version": "3.10.11"
  }
 },
 "nbformat": 4,
 "nbformat_minor": 5
}
