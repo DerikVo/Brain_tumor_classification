{
 "cells": [
  {
   "cell_type": "code",
   "execution_count": 1,
   "id": "a52c7165-1557-4dfc-9d48-830fa1fb80ba",
   "metadata": {},
   "outputs": [],
   "source": [
    "# imports\n",
    "import numpy as np\n",
    "np.random.seed(42)\n",
    "from tensorflow.keras.utils import set_random_seed\n",
    "set_random_seed(42)\n",
    "\n",
    "import matplotlib.pyplot as plt\n",
    "import os\n",
    "import pandas as pd\n",
    "import seaborn as sns\n",
    "\n",
    "from sklearn.model_selection import train_test_split\n",
    "\n",
    "from tensorflow.keras.layers import Dense, Dropout, Flatten, Conv2D, MaxPooling2D\n",
    "from tensorflow.keras.regularizers import l2\n",
    "from tensorflow.keras.callbacks import EarlyStopping\n",
    "from tensorflow.keras.models import Sequential\n",
    "from tensorflow.keras.preprocessing.image import ImageDataGenerator\n",
    "from tensorflow.keras import layers\n",
    "from keras.applications import ConvNeXtTiny"
   ]
  },
  {
   "cell_type": "markdown",
   "id": "800dd985-2c61-4418-a27e-28252157ba0d",
   "metadata": {},
   "source": [
    "# Neural Network\n",
    "\n",
    "Here we build a basic neural network to classify out images. The below code repurposed many aspects of previous projects I worked on with colleagues. Most of the neural network and metrics takes inspiration from [A plant disease classification project](https://github.com/DerikVo/DSI_project_4_plant_disease) and a single day [Hack-a-thon](https://github.com/DerikVo/NN_hackathon) to classify if an object was a hotdog or not a hotdog."
   ]
  },
  {
   "cell_type": "code",
   "execution_count": 2,
   "id": "b123ab25-0e50-4827-bce3-c5001dfa3e3c",
   "metadata": {},
   "outputs": [],
   "source": [
    "# set the training and testing paths\n",
    "training_folder_path = '../Images/Training'\n",
    "testing_folder_path = '../Images/Testing'"
   ]
  },
  {
   "cell_type": "code",
   "execution_count": 3,
   "id": "60332b77-10c4-4f05-ba32-74e67ce636ec",
   "metadata": {},
   "outputs": [],
   "source": [
    "# manually list out the class names\n",
    "class_names = ['glioma', 'meningioma', 'notumor', 'pituitary']"
   ]
  },
  {
   "cell_type": "code",
   "execution_count": 4,
   "id": "6578b198-899d-4895-b516-d50fbde7f912",
   "metadata": {},
   "outputs": [
    {
     "name": "stdout",
     "output_type": "stream",
     "text": [
      "Found 4000 images belonging to 4 classes.\n",
      "Found 1712 images belonging to 4 classes.\n",
      "Found 1311 images belonging to 4 classes.\n"
     ]
    }
   ],
   "source": [
    "datagen = ImageDataGenerator(validation_split=0.30)\n",
    "# Get the training data\n",
    "train_ds = datagen.flow_from_directory(\n",
    "    training_folder_path,\n",
    "    target_size=(256, 256),\n",
    "    color_mode='grayscale',\n",
    "    batch_size=32,\n",
    "    classes=class_names,\n",
    "    class_mode='categorical',\n",
    "    subset='training',  # Set as training data\n",
    "    seed=42\n",
    ")\n",
    "\n",
    "# Get the validation data\n",
    "val_ds = datagen.flow_from_directory(\n",
    "    training_folder_path,\n",
    "    target_size=(256, 256),\n",
    "    color_mode='grayscale',\n",
    "    batch_size=32,\n",
    "    classes=class_names,\n",
    "    class_mode='categorical',\n",
    "    subset='validation',  # Set as validation data\n",
    "    seed=42,\n",
    "    shuffle=False\n",
    ")\n",
    "\n",
    "# Get the test data\n",
    "test_ds = datagen.flow_from_directory(\n",
    "    testing_folder_path,\n",
    "    target_size=(256, 256),\n",
    "    color_mode='grayscale',\n",
    "    class_mode='categorical',\n",
    "    seed=42,\n",
    "    shuffle=False\n",
    ")\n"
   ]
  },
  {
   "cell_type": "markdown",
   "id": "c1d60f14-7a80-4d41-9f0b-37321623c2f1",
   "metadata": {
    "tags": []
   },
   "source": [
    "## First model\n",
    "This model uses many aspects of a prior project for [plant disease classification](https://github.com/DerikVo/DSI_project_4_plant_disease/tree/main)"
   ]
  },
  {
   "cell_type": "code",
   "execution_count": 5,
   "id": "bc37376b-106d-4825-b43a-9df7fad9f3e7",
   "metadata": {},
   "outputs": [],
   "source": [
    "early_stopping = EarlyStopping(patience=5)"
   ]
  },
  {
   "cell_type": "code",
   "execution_count": 6,
   "id": "b2c3a1ac-2d85-467e-aa16-52f1c0f3ba8a",
   "metadata": {},
   "outputs": [],
   "source": [
    "model = Sequential()\n",
    "model.add(Conv2D(32, (3, 3), activation='relu', input_shape=(256, 256, 1)))\n",
    "model.add(MaxPooling2D((2, 2)))\n",
    "\n",
    "model.add(Conv2D(64, (3, 3), activation='relu'))\n",
    "model.add(MaxPooling2D((2, 2)))\n",
    "\n",
    "model.add(Conv2D(128, (3, 3), activation='relu'))\n",
    "model.add(MaxPooling2D((2, 2)))\n",
    "\n",
    "model.add(Flatten())\n",
    "\n",
    "model.add(Dense(128, activation='relu'))\n",
    "model.add(Dense(4, activation='softmax'))"
   ]
  },
  {
   "cell_type": "code",
   "execution_count": 7,
   "id": "3b8c7002-7990-4b3a-8f57-84d867286e47",
   "metadata": {},
   "outputs": [],
   "source": [
    "model.compile(optimizer='adam', loss='categorical_crossentropy', metrics=['accuracy'])"
   ]
  },
  {
   "cell_type": "code",
   "execution_count": 8,
   "id": "187b5f26-deb2-41a6-a960-439acf618f9d",
   "metadata": {},
   "outputs": [
    {
     "name": "stdout",
     "output_type": "stream",
     "text": [
      "Epoch 1/10\n",
      "125/125 [==============================] - 53s 397ms/step - loss: 6.8160 - accuracy: 0.7832 - val_loss: 0.9318 - val_accuracy: 0.7576\n",
      "Epoch 2/10\n",
      "125/125 [==============================] - 42s 338ms/step - loss: 0.1863 - accuracy: 0.9375 - val_loss: 1.1293 - val_accuracy: 0.7535\n",
      "Epoch 3/10\n",
      "125/125 [==============================] - 42s 335ms/step - loss: 0.1109 - accuracy: 0.9645 - val_loss: 1.5578 - val_accuracy: 0.7500\n",
      "Epoch 4/10\n",
      "125/125 [==============================] - 44s 348ms/step - loss: 0.0502 - accuracy: 0.9835 - val_loss: 1.4596 - val_accuracy: 0.7407\n",
      "Epoch 5/10\n",
      "125/125 [==============================] - 42s 333ms/step - loss: 0.0388 - accuracy: 0.9883 - val_loss: 2.4034 - val_accuracy: 0.7640\n",
      "Epoch 6/10\n",
      "125/125 [==============================] - 42s 339ms/step - loss: 0.0518 - accuracy: 0.9847 - val_loss: 2.0532 - val_accuracy: 0.7319\n"
     ]
    }
   ],
   "source": [
    "history = model.fit(train_ds, validation_data=val_ds, epochs=10, callbacks=[early_stopping])"
   ]
  },
  {
   "cell_type": "code",
   "execution_count": 9,
   "id": "669341b5-a852-4356-b160-e514bd785ca9",
   "metadata": {},
   "outputs": [],
   "source": [
    "model.save('../Models/CNN_base.h5')"
   ]
  },
  {
   "cell_type": "markdown",
   "id": "d392525a-5df8-49aa-8380-a4f9b1257731",
   "metadata": {},
   "source": [
    "### Interpretation:\n",
    "Here we see that our training accuracy is about 98% while our validation is 73% which suggest our model is very overfit. We will need to either reduce features or add some regularization. Lets try adding some regularization to our next model."
   ]
  },
  {
   "cell_type": "markdown",
   "id": "2187876c-e18e-4405-a1c1-d1deadafed1e",
   "metadata": {
    "tags": []
   },
   "source": [
    "## Second model\n",
    "This model uses regularization to try to combat overfiting. The model uses techniques learned from the [General Assembly Data science immersive bootcamp](https://generalassemb.ly/education/data-science) which taught a lab on regularization with convolutional neural networks."
   ]
  },
  {
   "cell_type": "code",
   "execution_count": 11,
   "id": "d448bb82-875b-476a-803f-d487108b2d2f",
   "metadata": {},
   "outputs": [],
   "source": [
    "model2 = Sequential()\n",
    "model2.add(Conv2D(32, (3, 3), activation='relu', input_shape=(256, 256, 1), kernel_regularizer=l2(0.01)))\n",
    "model2.add(MaxPooling2D((2, 2)))\n",
    "\n",
    "model2.add(Conv2D(64, (3, 3), activation='relu', kernel_regularizer=l2(0.01)))\n",
    "model2.add(MaxPooling2D((2, 2)))\n",
    "model2.add(Dropout(0.25))\n",
    "\n",
    "model2.add(Conv2D(128, (3, 3), activation='relu', kernel_regularizer=l2(0.01)))\n",
    "model2.add(MaxPooling2D((2, 2)))\n",
    "model2.add(Dropout(0.25))\n",
    "\n",
    "model2.add(Flatten())\n",
    "model2.add(Dense(128, activation='relu', kernel_regularizer=l2(0.01)))\n",
    "model2.add(Dropout(0.5))\n",
    "\n",
    "model2.add(Dense(4, activation='softmax'))"
   ]
  },
  {
   "cell_type": "code",
   "execution_count": 12,
   "id": "cca64500-4aaf-4c7e-8593-aa43678ab694",
   "metadata": {},
   "outputs": [],
   "source": [
    "model2.compile(optimizer='adam', loss='categorical_crossentropy', metrics=['accuracy'])"
   ]
  },
  {
   "cell_type": "code",
   "execution_count": 13,
   "id": "6e7cb709-ca5e-4790-a79d-57eb224495ee",
   "metadata": {},
   "outputs": [
    {
     "name": "stdout",
     "output_type": "stream",
     "text": [
      "Epoch 1/10\n",
      "125/125 [==============================] - 48s 379ms/step - loss: 18.2575 - accuracy: 0.6522 - val_loss: 6.2715 - val_accuracy: 0.6016\n",
      "Epoch 2/10\n",
      "125/125 [==============================] - 46s 368ms/step - loss: 5.0119 - accuracy: 0.8335 - val_loss: 4.9253 - val_accuracy: 0.7062\n",
      "Epoch 3/10\n",
      "125/125 [==============================] - 46s 369ms/step - loss: 4.0644 - accuracy: 0.8440 - val_loss: 4.1530 - val_accuracy: 0.7424\n",
      "Epoch 4/10\n",
      "125/125 [==============================] - 47s 372ms/step - loss: 3.2763 - accuracy: 0.8925 - val_loss: 3.7652 - val_accuracy: 0.7290\n",
      "Epoch 5/10\n",
      "125/125 [==============================] - 46s 366ms/step - loss: 2.8264 - accuracy: 0.8947 - val_loss: 3.3068 - val_accuracy: 0.7296\n",
      "Epoch 6/10\n",
      "125/125 [==============================] - 47s 375ms/step - loss: 2.4847 - accuracy: 0.8972 - val_loss: 2.9961 - val_accuracy: 0.7307\n",
      "Epoch 7/10\n",
      "125/125 [==============================] - 47s 378ms/step - loss: 2.1203 - accuracy: 0.9120 - val_loss: 2.6917 - val_accuracy: 0.7296\n",
      "Epoch 8/10\n",
      "125/125 [==============================] - 46s 370ms/step - loss: 1.9043 - accuracy: 0.9158 - val_loss: 2.4917 - val_accuracy: 0.7412\n",
      "Epoch 9/10\n",
      "125/125 [==============================] - 47s 374ms/step - loss: 1.7548 - accuracy: 0.9190 - val_loss: 2.4288 - val_accuracy: 0.7693\n",
      "Epoch 10/10\n",
      "125/125 [==============================] - 48s 380ms/step - loss: 1.6366 - accuracy: 0.9100 - val_loss: 2.2848 - val_accuracy: 0.7588\n"
     ]
    }
   ],
   "source": [
    "history2 = model2.fit(train_ds, validation_data=val_ds, epochs=10, callbacks=[early_stopping])"
   ]
  },
  {
   "cell_type": "code",
   "execution_count": 14,
   "id": "4c9b1043-ec1a-4132-ab02-75d33a558388",
   "metadata": {},
   "outputs": [],
   "source": [
    "model2.save('../Models/CNN_regularization.h5')"
   ]
  },
  {
   "cell_type": "markdown",
   "id": "186eb61c-9b5c-4d31-8ddf-7a6af68147e8",
   "metadata": {
    "tags": []
   },
   "source": [
    "### Interpretation:\n",
    "Here we see that our training accuracy is about 91% while our validation is 74% which suggest our model is still overfit, but not as much. \n",
    "\n",
    "Since our validation score was higher without regularization we will stick with the first model. Augmentation was attempted but there was a memory issue. It wasn't till later that I realized I could have saved the images and read in those images instead of having it in my active memory. With that being said we also want to know how the model performs using other metrics such as precision, recall, and F1."
   ]
  },
  {
   "cell_type": "markdown",
   "id": "b825cddb-040e-4e07-8f44-7ead2df5e4a3",
   "metadata": {
    "tags": []
   },
   "source": [
    "# Measuring metrics"
   ]
  },
  {
   "cell_type": "code",
   "execution_count": 15,
   "id": "27c2a852-8f70-4fbe-9d78-0507ea65995e",
   "metadata": {},
   "outputs": [],
   "source": [
    "import sys\n",
    "sys.path.append('../modules/')\n",
    "import model as m\n",
    "from sklearn.metrics import accuracy_score, precision_score, recall_score, f1_score, confusion_matrix"
   ]
  },
  {
   "cell_type": "code",
   "execution_count": 16,
   "id": "883d19e7-deb0-4aae-80b3-ae4411accffb",
   "metadata": {},
   "outputs": [],
   "source": [
    "'''\n",
    "Code is based on previous projects:\n",
    "This code is based on code provided by CHAT GPT with two different prompts. Both prompts can be found in the model.py file\n",
    "THe code was adapted to work as a stand alone to work with model predictions\n",
    "'''\n",
    "def calculate_metrics(true_classes, predicted_classes, title):\n",
    "    '''\n",
    "    Calculate accuracy, precision, recall, and F1 score.\n",
    "    Also passes a title argument that titles the index for the model being used\n",
    "    '''\n",
    "    accuracy = accuracy_score(true_classes, predicted_classes)\n",
    "    precision = precision_score(true_classes, predicted_classes, average='weighted')\n",
    "    recall = recall_score(true_classes, predicted_classes, average='weighted')\n",
    "    f1 = f1_score(true_classes, predicted_classes, average='weighted')\n",
    "    data = {'Accuracy': [accuracy], 'Precision': [precision], 'Recall': [recall], 'F1 Score': [f1]}\n",
    "    df = pd.DataFrame(data, index=[f'{title}'])\n",
    "    return df\n"
   ]
  },
  {
   "cell_type": "markdown",
   "id": "cee59b4d-8d29-403b-8873-2365cd413ccf",
   "metadata": {
    "tags": []
   },
   "source": [
    "## Model 1"
   ]
  },
  {
   "cell_type": "code",
   "execution_count": 17,
   "id": "0d397195-eef4-46c2-95d6-98a1cfb32f68",
   "metadata": {},
   "outputs": [
    {
     "name": "stdout",
     "output_type": "stream",
     "text": [
      "41/41 [==============================] - 9s 228ms/step - loss: 1.0615 - accuracy: 0.8780\n"
     ]
    }
   ],
   "source": [
    "# Evaluate the model on the test data\n",
    "test_loss, test_accuracy = model.evaluate(test_ds)"
   ]
  },
  {
   "cell_type": "code",
   "execution_count": 18,
   "id": "44e3a277-9da0-45f5-b926-3e717ca2a60e",
   "metadata": {},
   "outputs": [
    {
     "name": "stdout",
     "output_type": "stream",
     "text": [
      "41/41 [==============================] - 3s 77ms/step\n"
     ]
    }
   ],
   "source": [
    "# Get the predicted classes\n",
    "y_pred = model.predict(test_ds)\n",
    "predicted_classes = np.argmax(y_pred, axis=1)"
   ]
  },
  {
   "cell_type": "code",
   "execution_count": 19,
   "id": "f20c5ef4-5907-4a21-a121-bb6a551b5739",
   "metadata": {},
   "outputs": [],
   "source": [
    "# Get the true classes\n",
    "true_classes = test_ds.classes"
   ]
  },
  {
   "cell_type": "code",
   "execution_count": 20,
   "id": "d596d034-e076-4939-b776-606378f99e0e",
   "metadata": {},
   "outputs": [],
   "source": [
    "# Calculate metrics\n",
    "neueral_net_df = calculate_metrics(true_classes, predicted_classes, 'Neural Network')"
   ]
  },
  {
   "cell_type": "code",
   "execution_count": 21,
   "id": "9f3bd9e3-c9cd-4624-bba8-8fda4958cf95",
   "metadata": {},
   "outputs": [
    {
     "data": {
      "text/html": [
       "<div>\n",
       "<style scoped>\n",
       "    .dataframe tbody tr th:only-of-type {\n",
       "        vertical-align: middle;\n",
       "    }\n",
       "\n",
       "    .dataframe tbody tr th {\n",
       "        vertical-align: top;\n",
       "    }\n",
       "\n",
       "    .dataframe thead th {\n",
       "        text-align: right;\n",
       "    }\n",
       "</style>\n",
       "<table border=\"1\" class=\"dataframe\">\n",
       "  <thead>\n",
       "    <tr style=\"text-align: right;\">\n",
       "      <th></th>\n",
       "      <th>Accuracy</th>\n",
       "      <th>Precision</th>\n",
       "      <th>Recall</th>\n",
       "      <th>F1 Score</th>\n",
       "    </tr>\n",
       "  </thead>\n",
       "  <tbody>\n",
       "    <tr>\n",
       "      <th>Neural Network</th>\n",
       "      <td>0.877956</td>\n",
       "      <td>0.875791</td>\n",
       "      <td>0.877956</td>\n",
       "      <td>0.872934</td>\n",
       "    </tr>\n",
       "  </tbody>\n",
       "</table>\n",
       "</div>"
      ],
      "text/plain": [
       "                Accuracy  Precision    Recall  F1 Score\n",
       "Neural Network  0.877956   0.875791  0.877956  0.872934"
      ]
     },
     "execution_count": 21,
     "metadata": {},
     "output_type": "execute_result"
    }
   ],
   "source": [
    "neueral_net_df"
   ]
  },
  {
   "cell_type": "code",
   "execution_count": 22,
   "id": "94662f01-863f-4742-929f-225bd7d14dab",
   "metadata": {},
   "outputs": [],
   "source": [
    "cm = confusion_matrix(true_classes, predicted_classes)"
   ]
  },
  {
   "cell_type": "code",
   "execution_count": 23,
   "id": "6b687f21-dc62-483e-b681-354902fd1150",
   "metadata": {},
   "outputs": [],
   "source": [
    "class_paths = {class_name: os.path.join(testing_folder_path, class_name) for class_name in class_names}"
   ]
  },
  {
   "cell_type": "code",
   "execution_count": 25,
   "id": "26fef461-3a88-40be-8b73-aca786ae52a5",
   "metadata": {},
   "outputs": [
    {
     "data": {
      "image/png": "[encoded data removed]",
      "text/plain": [
       "<Figure size 1000x1000 with 2 Axes>"
      ]
     },
     "metadata": {},
     "output_type": "display_data"
    },
    {
     "name": "stdout",
     "output_type": "stream",
     "text": [
      "                Accuracy  Precision    Recall  F1 Score\n",
      "Neural Network  0.877956   0.875791  0.877956  0.872934\n"
     ]
    }
   ],
   "source": [
    "# Plot the confusion matrix\n",
    "m.plot_confusion_matrix(cm, class_paths, 'Neural Network')\n",
    "\n",
    "# Display the metrics DataFrame\n",
    "print(neueral_net_df)"
   ]
  },
  {
   "cell_type": "markdown",
   "id": "f6d08d85-2ac8-4f02-b8c4-e586457c488d",
   "metadata": {},
   "source": [
    "## Model 2"
   ]
  },
  {
   "cell_type": "code",
   "execution_count": 35,
   "id": "81c6e330-8fc2-4213-912c-1513d8989306",
   "metadata": {},
   "outputs": [
    {
     "name": "stdout",
     "output_type": "stream",
     "text": [
      "41/41 [==============================] - 3s 82ms/step - loss: 1.9822 - accuracy: 0.8528\n"
     ]
    }
   ],
   "source": [
    "# Evaluate the model on the test data\n",
    "test_loss2, test_accuracy2 = model2.evaluate(test_ds)"
   ]
  },
  {
   "cell_type": "code",
   "execution_count": 36,
   "id": "74d3c170-610a-4ee3-990a-87db0df68ba7",
   "metadata": {},
   "outputs": [
    {
     "name": "stdout",
     "output_type": "stream",
     "text": [
      "41/41 [==============================] - 3s 76ms/step\n"
     ]
    }
   ],
   "source": [
    "# Get the predicted classes\n",
    "y_pred2 = model2.predict(test_ds)\n",
    "predicted_classes2 = np.argmax(y_pred2, axis=1)"
   ]
  },
  {
   "cell_type": "code",
   "execution_count": 37,
   "id": "b64f60d1-f704-45bb-9360-da7b1d91470b",
   "metadata": {},
   "outputs": [],
   "source": [
    "# Calculate metrics\n",
    "regularization_df = calculate_metrics(true_classes, predicted_classes2, 'Neural Network: regularization')"
   ]
  },
  {
   "cell_type": "code",
   "execution_count": 38,
   "id": "5a323fe0-6a1d-4da7-9207-afbd59dcfd96",
   "metadata": {},
   "outputs": [
    {
     "data": {
      "text/html": [
       "<div>\n",
       "<style scoped>\n",
       "    .dataframe tbody tr th:only-of-type {\n",
       "        vertical-align: middle;\n",
       "    }\n",
       "\n",
       "    .dataframe tbody tr th {\n",
       "        vertical-align: top;\n",
       "    }\n",
       "\n",
       "    .dataframe thead th {\n",
       "        text-align: right;\n",
       "    }\n",
       "</style>\n",
       "<table border=\"1\" class=\"dataframe\">\n",
       "  <thead>\n",
       "    <tr style=\"text-align: right;\">\n",
       "      <th></th>\n",
       "      <th>Accuracy</th>\n",
       "      <th>Precision</th>\n",
       "      <th>Recall</th>\n",
       "      <th>F1 Score</th>\n",
       "    </tr>\n",
       "  </thead>\n",
       "  <tbody>\n",
       "    <tr>\n",
       "      <th>Neural Network: regularization</th>\n",
       "      <td>0.852784</td>\n",
       "      <td>0.849916</td>\n",
       "      <td>0.852784</td>\n",
       "      <td>0.844704</td>\n",
       "    </tr>\n",
       "  </tbody>\n",
       "</table>\n",
       "</div>"
      ],
      "text/plain": [
       "                                Accuracy  Precision    Recall  F1 Score\n",
       "Neural Network: regularization  0.852784   0.849916  0.852784  0.844704"
      ]
     },
     "execution_count": 38,
     "metadata": {},
     "output_type": "execute_result"
    }
   ],
   "source": [
    "regularization_df"
   ]
  },
  {
   "cell_type": "code",
   "execution_count": 39,
   "id": "3114a88b-f84f-42aa-b5f8-cb2cf354ae0a",
   "metadata": {},
   "outputs": [],
   "source": [
    "cm = confusion_matrix(true_classes, predicted_classes2)"
   ]
  },
  {
   "cell_type": "code",
   "execution_count": 40,
   "id": "81986006-628d-4cb2-8c75-de1e5ebbe667",
   "metadata": {},
   "outputs": [
    {
     "data": {
      "image/png": "[encoded data removed]",
      "text/plain": [
       "<Figure size 1000x1000 with 2 Axes>"
      ]
     },
     "metadata": {},
     "output_type": "display_data"
    },
    {
     "name": "stdout",
     "output_type": "stream",
     "text": [
      "                                Accuracy  Precision    Recall  F1 Score\n",
      "Neural Network: regularization  0.852784   0.849916  0.852784  0.844704\n"
     ]
    }
   ],
   "source": [
    "# Plot the confusion matrix\n",
    "m.plot_confusion_matrix(cm, class_paths, 'Neural Network')\n",
    "\n",
    "# Display the metrics DataFrame\n",
    "print(regularization_df)"
   ]
  },
  {
   "cell_type": "code",
   "execution_count": 41,
   "id": "4774a835-72aa-40dc-8bbd-1bec4b67b390",
   "metadata": {},
   "outputs": [],
   "source": [
    "df = pd.read_csv('./scores.csv', index_col=0 )"
   ]
  },
  {
   "cell_type": "code",
   "execution_count": 42,
   "id": "54a75072-3ae7-49f5-8c81-231d40eb9e6c",
   "metadata": {},
   "outputs": [
    {
     "data": {
      "text/html": [
       "<div>\n",
       "<style scoped>\n",
       "    .dataframe tbody tr th:only-of-type {\n",
       "        vertical-align: middle;\n",
       "    }\n",
       "\n",
       "    .dataframe tbody tr th {\n",
       "        vertical-align: top;\n",
       "    }\n",
       "\n",
       "    .dataframe thead th {\n",
       "        text-align: right;\n",
       "    }\n",
       "</style>\n",
       "<table border=\"1\" class=\"dataframe\">\n",
       "  <thead>\n",
       "    <tr style=\"text-align: right;\">\n",
       "      <th></th>\n",
       "      <th>Accuracy</th>\n",
       "      <th>Precision</th>\n",
       "      <th>Recall</th>\n",
       "      <th>F1 Score</th>\n",
       "    </tr>\n",
       "    <tr>\n",
       "      <th>Model</th>\n",
       "      <th></th>\n",
       "      <th></th>\n",
       "      <th></th>\n",
       "      <th></th>\n",
       "    </tr>\n",
       "  </thead>\n",
       "  <tbody>\n",
       "    <tr>\n",
       "      <th>baseline</th>\n",
       "      <td>0.46987</td>\n",
       "      <td>0.468308</td>\n",
       "      <td>0.46987</td>\n",
       "      <td>0.463567</td>\n",
       "    </tr>\n",
       "  </tbody>\n",
       "</table>\n",
       "</div>"
      ],
      "text/plain": [
       "          Accuracy  Precision   Recall  F1 Score\n",
       "Model                                           \n",
       "baseline   0.46987   0.468308  0.46987  0.463567"
      ]
     },
     "execution_count": 42,
     "metadata": {},
     "output_type": "execute_result"
    }
   ],
   "source": [
    "df"
   ]
  },
  {
   "cell_type": "code",
   "execution_count": 43,
   "id": "dbc2b773-828e-41dd-810a-01fdd5627ead",
   "metadata": {},
   "outputs": [],
   "source": [
    "df = pd.concat([df, neueral_net_df, regularization_df], axis = 0 )"
   ]
  },
  {
   "cell_type": "code",
   "execution_count": 44,
   "id": "21d280fe-1f94-4861-8a7f-5ee218966bcd",
   "metadata": {},
   "outputs": [
    {
     "data": {
      "text/html": [
       "<div>\n",
       "<style scoped>\n",
       "    .dataframe tbody tr th:only-of-type {\n",
       "        vertical-align: middle;\n",
       "    }\n",
       "\n",
       "    .dataframe tbody tr th {\n",
       "        vertical-align: top;\n",
       "    }\n",
       "\n",
       "    .dataframe thead th {\n",
       "        text-align: right;\n",
       "    }\n",
       "</style>\n",
       "<table border=\"1\" class=\"dataframe\">\n",
       "  <thead>\n",
       "    <tr style=\"text-align: right;\">\n",
       "      <th></th>\n",
       "      <th>Accuracy</th>\n",
       "      <th>Precision</th>\n",
       "      <th>Recall</th>\n",
       "      <th>F1 Score</th>\n",
       "    </tr>\n",
       "  </thead>\n",
       "  <tbody>\n",
       "    <tr>\n",
       "      <th>baseline</th>\n",
       "      <td>0.469870</td>\n",
       "      <td>0.468308</td>\n",
       "      <td>0.469870</td>\n",
       "      <td>0.463567</td>\n",
       "    </tr>\n",
       "    <tr>\n",
       "      <th>Neural Network</th>\n",
       "      <td>0.877956</td>\n",
       "      <td>0.875791</td>\n",
       "      <td>0.877956</td>\n",
       "      <td>0.872934</td>\n",
       "    </tr>\n",
       "    <tr>\n",
       "      <th>Neural Network: regularization</th>\n",
       "      <td>0.852784</td>\n",
       "      <td>0.849916</td>\n",
       "      <td>0.852784</td>\n",
       "      <td>0.844704</td>\n",
       "    </tr>\n",
       "  </tbody>\n",
       "</table>\n",
       "</div>"
      ],
      "text/plain": [
       "                                Accuracy  Precision    Recall  F1 Score\n",
       "baseline                        0.469870   0.468308  0.469870  0.463567\n",
       "Neural Network                  0.877956   0.875791  0.877956  0.872934\n",
       "Neural Network: regularization  0.852784   0.849916  0.852784  0.844704"
      ]
     },
     "execution_count": 44,
     "metadata": {},
     "output_type": "execute_result"
    }
   ],
   "source": [
    "df"
   ]
  },
  {
   "cell_type": "code",
   "execution_count": 45,
   "id": "f9ce81d9-1280-43e9-b5eb-bad82c15c2f4",
   "metadata": {},
   "outputs": [],
   "source": [
    "df.to_csv('./scores.csv')"
   ]
  }
 ],
 "metadata": {
  "kernelspec": {
   "display_name": "Python [conda env:tensorflow-env]",
   "language": "python",
   "name": "conda-env-tensorflow-env-py"
  },
  "language_info": {
   "codemirror_mode": {
    "name": "ipython",
    "version": 3
   },
   "file_extension": ".py",
   "mimetype": "text/x-python",
   "name": "python",
   "nbconvert_exporter": "python",
   "pygments_lexer": "ipython3",
   "version": "3.10.11"
  }
 },
 "nbformat": 4,
 "nbformat_minor": 5
}
